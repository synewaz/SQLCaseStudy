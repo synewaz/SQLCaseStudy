{
 "cells": [
  {
   "cell_type": "code",
   "execution_count": 1,
   "id": "3f5102ae",
   "metadata": {},
   "outputs": [],
   "source": [
    "from sqlalchemy import create_engine\n",
    "import pandas as pd"
   ]
  },
  {
   "cell_type": "code",
   "execution_count": 3,
   "id": "793d71fb",
   "metadata": {},
   "outputs": [],
   "source": [
    "engine = create_engine('sqlite:///sqlite_db_pythonsqlite.db')"
   ]
  },
  {
   "cell_type": "markdown",
   "id": "49e879ca",
   "metadata": {},
   "source": [
    "# Connection Complete now to do questions"
   ]
  },
  {
   "cell_type": "code",
   "execution_count": 8,
   "id": "4eec95ec",
   "metadata": {},
   "outputs": [
    {
     "data": {
      "text/plain": [
       "\"Q10: Produce a list of facilities with a total revenue less than 1000.\\nThe output of facility name and total revenue, sorted by revenue. Remember\\nthat there's a different cost for guests and members! */ \\n\""
      ]
     },
     "execution_count": 8,
     "metadata": {},
     "output_type": "execute_result"
    }
   ],
   "source": [
    "\"\"\"Q10: Produce a list of facilities with a total revenue less than 1000.\n",
    "The output of facility name and total revenue, sorted by revenue. Remember\n",
    "that there's a different cost for guests and members! */ \n",
    "\"\"\"\n"
   ]
  },
  {
   "cell_type": "code",
   "execution_count": 11,
   "id": "608f79b8",
   "metadata": {},
   "outputs": [],
   "source": [
    "df=pd.read_sql_query('SELECT * FROM (SELECT sub.facility, SUM( sub.cost ) AS total_revenue FROM (SELECT Facilities.name AS facility, CASE WHEN Bookings.memid =0 THEN Facilities.guestcost * Bookings.slots ELSE Facilities.membercost * Bookings.slots END AS cost FROM Bookings INNER JOIN Facilities ON Bookings.facid = Facilities.facid INNER JOIN Members ON Bookings.memid = Members.memid)sub GROUP BY sub.facility)sub2 WHERE sub2.total_revenue <1000',\n",
    "                     engine)"
   ]
  },
  {
   "cell_type": "code",
   "execution_count": 12,
   "id": "0a2c917c",
   "metadata": {},
   "outputs": [
    {
     "data": {
      "text/html": [
       "<div>\n",
       "<style scoped>\n",
       "    .dataframe tbody tr th:only-of-type {\n",
       "        vertical-align: middle;\n",
       "    }\n",
       "\n",
       "    .dataframe tbody tr th {\n",
       "        vertical-align: top;\n",
       "    }\n",
       "\n",
       "    .dataframe thead th {\n",
       "        text-align: right;\n",
       "    }\n",
       "</style>\n",
       "<table border=\"1\" class=\"dataframe\">\n",
       "  <thead>\n",
       "    <tr style=\"text-align: right;\">\n",
       "      <th></th>\n",
       "      <th>facility</th>\n",
       "      <th>total_revenue</th>\n",
       "    </tr>\n",
       "  </thead>\n",
       "  <tbody>\n",
       "    <tr>\n",
       "      <th>0</th>\n",
       "      <td>Pool Table</td>\n",
       "      <td>270</td>\n",
       "    </tr>\n",
       "    <tr>\n",
       "      <th>1</th>\n",
       "      <td>Snooker Table</td>\n",
       "      <td>240</td>\n",
       "    </tr>\n",
       "    <tr>\n",
       "      <th>2</th>\n",
       "      <td>Table Tennis</td>\n",
       "      <td>180</td>\n",
       "    </tr>\n",
       "  </tbody>\n",
       "</table>\n",
       "</div>"
      ],
      "text/plain": [
       "        facility  total_revenue\n",
       "0     Pool Table            270\n",
       "1  Snooker Table            240\n",
       "2   Table Tennis            180"
      ]
     },
     "execution_count": 12,
     "metadata": {},
     "output_type": "execute_result"
    }
   ],
   "source": [
    "df.head()"
   ]
  },
  {
   "cell_type": "code",
   "execution_count": 13,
   "id": "5966bd33",
   "metadata": {},
   "outputs": [],
   "source": [
    "# Q11: Produce a report of members and who recommended them in alphabetic surname,firstname order "
   ]
  },
  {
   "cell_type": "code",
   "execution_count": 22,
   "id": "967938bf",
   "metadata": {},
   "outputs": [],
   "source": [
    "df2= pd.read_sql_query('SELECT m.surname, m.firstname, m.recommendedby AS recomender_id, r.surname AS recomender_surname, r.firstname AS recomender_firstname FROM Members AS m LEFT JOIN Members AS r ON m.recommendedby = r.memid WHERE m.recommendedby != 0 ORDER BY r.surname, r.firstname;', engine)"
   ]
  },
  {
   "cell_type": "code",
   "execution_count": 24,
   "id": "af7adea9",
   "metadata": {},
   "outputs": [
    {
     "data": {
      "text/html": [
       "<div>\n",
       "<style scoped>\n",
       "    .dataframe tbody tr th:only-of-type {\n",
       "        vertical-align: middle;\n",
       "    }\n",
       "\n",
       "    .dataframe tbody tr th {\n",
       "        vertical-align: top;\n",
       "    }\n",
       "\n",
       "    .dataframe thead th {\n",
       "        text-align: right;\n",
       "    }\n",
       "</style>\n",
       "<table border=\"1\" class=\"dataframe\">\n",
       "  <thead>\n",
       "    <tr style=\"text-align: right;\">\n",
       "      <th></th>\n",
       "      <th>surname</th>\n",
       "      <th>firstname</th>\n",
       "      <th>recomender_id</th>\n",
       "      <th>recomender_surname</th>\n",
       "      <th>recomender_firstname</th>\n",
       "    </tr>\n",
       "  </thead>\n",
       "  <tbody>\n",
       "    <tr>\n",
       "      <th>0</th>\n",
       "      <td>GUEST</td>\n",
       "      <td>GUEST</td>\n",
       "      <td></td>\n",
       "      <td>None</td>\n",
       "      <td>None</td>\n",
       "    </tr>\n",
       "    <tr>\n",
       "      <th>1</th>\n",
       "      <td>Smith</td>\n",
       "      <td>Darren</td>\n",
       "      <td></td>\n",
       "      <td>None</td>\n",
       "      <td>None</td>\n",
       "    </tr>\n",
       "    <tr>\n",
       "      <th>2</th>\n",
       "      <td>Smith</td>\n",
       "      <td>Tracy</td>\n",
       "      <td></td>\n",
       "      <td>None</td>\n",
       "      <td>None</td>\n",
       "    </tr>\n",
       "    <tr>\n",
       "      <th>3</th>\n",
       "      <td>Rownam</td>\n",
       "      <td>Tim</td>\n",
       "      <td></td>\n",
       "      <td>None</td>\n",
       "      <td>None</td>\n",
       "    </tr>\n",
       "    <tr>\n",
       "      <th>4</th>\n",
       "      <td>Tracy</td>\n",
       "      <td>Burton</td>\n",
       "      <td></td>\n",
       "      <td>None</td>\n",
       "      <td>None</td>\n",
       "    </tr>\n",
       "  </tbody>\n",
       "</table>\n",
       "</div>"
      ],
      "text/plain": [
       "  surname firstname recomender_id recomender_surname recomender_firstname\n",
       "0   GUEST     GUEST                             None                 None\n",
       "1   Smith    Darren                             None                 None\n",
       "2   Smith     Tracy                             None                 None\n",
       "3  Rownam       Tim                             None                 None\n",
       "4   Tracy    Burton                             None                 None"
      ]
     },
     "execution_count": 24,
     "metadata": {},
     "output_type": "execute_result"
    }
   ],
   "source": [
    "df2.head()"
   ]
  },
  {
   "cell_type": "code",
   "execution_count": 27,
   "id": "8fa0b1f5",
   "metadata": {},
   "outputs": [],
   "source": [
    "\n",
    "#/* Q12: Find the facilities with their usage by member, but not guests */"
   ]
  },
  {
   "cell_type": "code",
   "execution_count": 29,
   "id": "eae1d947",
   "metadata": {},
   "outputs": [],
   "source": [
    "df3= pd.read_sql_query('SELECT b.facid, COUNT( b.memid ) AS mem_usage, f.name FROM ( SELECT facid, memid FROM Bookings WHERE memid !=0) AS b LEFT JOIN Facilities AS f ON b.facid = f.facid GROUP BY b.facid;', engine)"
   ]
  },
  {
   "cell_type": "code",
   "execution_count": 30,
   "id": "5e36a6bc",
   "metadata": {},
   "outputs": [
    {
     "data": {
      "text/html": [
       "<div>\n",
       "<style scoped>\n",
       "    .dataframe tbody tr th:only-of-type {\n",
       "        vertical-align: middle;\n",
       "    }\n",
       "\n",
       "    .dataframe tbody tr th {\n",
       "        vertical-align: top;\n",
       "    }\n",
       "\n",
       "    .dataframe thead th {\n",
       "        text-align: right;\n",
       "    }\n",
       "</style>\n",
       "<table border=\"1\" class=\"dataframe\">\n",
       "  <thead>\n",
       "    <tr style=\"text-align: right;\">\n",
       "      <th></th>\n",
       "      <th>facid</th>\n",
       "      <th>mem_usage</th>\n",
       "      <th>name</th>\n",
       "    </tr>\n",
       "  </thead>\n",
       "  <tbody>\n",
       "    <tr>\n",
       "      <th>0</th>\n",
       "      <td>0</td>\n",
       "      <td>308</td>\n",
       "      <td>Tennis Court 1</td>\n",
       "    </tr>\n",
       "    <tr>\n",
       "      <th>1</th>\n",
       "      <td>1</td>\n",
       "      <td>276</td>\n",
       "      <td>Tennis Court 2</td>\n",
       "    </tr>\n",
       "    <tr>\n",
       "      <th>2</th>\n",
       "      <td>2</td>\n",
       "      <td>344</td>\n",
       "      <td>Badminton Court</td>\n",
       "    </tr>\n",
       "    <tr>\n",
       "      <th>3</th>\n",
       "      <td>3</td>\n",
       "      <td>385</td>\n",
       "      <td>Table Tennis</td>\n",
       "    </tr>\n",
       "    <tr>\n",
       "      <th>4</th>\n",
       "      <td>4</td>\n",
       "      <td>421</td>\n",
       "      <td>Massage Room 1</td>\n",
       "    </tr>\n",
       "  </tbody>\n",
       "</table>\n",
       "</div>"
      ],
      "text/plain": [
       "   facid  mem_usage             name\n",
       "0      0        308   Tennis Court 1\n",
       "1      1        276   Tennis Court 2\n",
       "2      2        344  Badminton Court\n",
       "3      3        385     Table Tennis\n",
       "4      4        421   Massage Room 1"
      ]
     },
     "execution_count": 30,
     "metadata": {},
     "output_type": "execute_result"
    }
   ],
   "source": [
    "df3.head()"
   ]
  },
  {
   "cell_type": "code",
   "execution_count": 31,
   "id": "e18e1330",
   "metadata": {},
   "outputs": [],
   "source": [
    "\n",
    "#/* Q13: Find the facilities usage by month, but not guests */"
   ]
  },
  {
   "cell_type": "code",
   "execution_count": 37,
   "id": "6bdb7f28",
   "metadata": {},
   "outputs": [
    {
     "ename": "SyntaxError",
     "evalue": "invalid syntax (1597883443.py, line 1)",
     "output_type": "error",
     "traceback": [
      "\u001b[1;36m  Input \u001b[1;32mIn [37]\u001b[1;36m\u001b[0m\n\u001b[1;33m    df4=pd.read_sql_query('SELECT f.name, (strftime('%Y-%m', starttime)) as month_count, count(*) as usage_count FROM Facilities as f INNER JOIN Bookings as b on b.facid = f.facid where b.memid != 0 group by f.name, month_count',engine)\u001b[0m\n\u001b[1;37m                                                        ^\u001b[0m\n\u001b[1;31mSyntaxError\u001b[0m\u001b[1;31m:\u001b[0m invalid syntax\n"
     ]
    }
   ],
   "source": [
    "df4=pd.read_sql_query('SELECT f.name, (strftime('%Y-%m', starttime)) as month_count, count(*) as usage_count FROM Facilities as f INNER JOIN Bookings as b on b.facid = f.facid where b.memid != 0 group by f.name, month_count',engine)"
   ]
  },
  {
   "cell_type": "code",
   "execution_count": null,
   "id": "93140550",
   "metadata": {},
   "outputs": [],
   "source": [
    "df4.head()"
   ]
  }
 ],
 "metadata": {
  "kernelspec": {
   "display_name": "Python 3 (ipykernel)",
   "language": "python",
   "name": "python3"
  },
  "language_info": {
   "codemirror_mode": {
    "name": "ipython",
    "version": 3
   },
   "file_extension": ".py",
   "mimetype": "text/x-python",
   "name": "python",
   "nbconvert_exporter": "python",
   "pygments_lexer": "ipython3",
   "version": "3.9.12"
  }
 },
 "nbformat": 4,
 "nbformat_minor": 5
}
